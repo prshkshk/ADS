{
 "cells": [
  {
   "cell_type": "code",
   "execution_count": 20,
   "metadata": {
    "collapsed": true
   },
   "outputs": [],
   "source": [
    "#import relevent packages\n",
    "import urllib3\n",
    "from bs4 import BeautifulSoup\n",
    "import warnings\n",
    "warnings.filterwarnings('ignore')\n",
    "import pandas as pd\n",
    "import os\n",
    "import shutil\n",
    "import logging\n",
    "import argparse\n",
    "import boto3\n",
    "from botocore.client import Config"
   ]
  },
  {
   "cell_type": "code",
   "execution_count": 21,
   "metadata": {
    "collapsed": true
   },
   "outputs": [],
   "source": [
    "# create logger with 'CaseStudy1Part1'\n",
    "logger = logging.getLogger('CaseStudy1Part1')\n",
    "logger.setLevel(logging.DEBUG)\n",
    "# create file handler which logs even debug messages\n",
    "fh = logging.FileHandler('CaseStudy1Part1.log')\n",
    "fh.setLevel(logging.DEBUG)\n",
    "# create console handler with a higher log level\n",
    "ch = logging.StreamHandler()\n",
    "ch.setLevel(logging.ERROR)\n",
    "# create formatter and add it to the handlers\n",
    "formatter = logging.Formatter('%(asctime)s - %(name)s - %(levelname)s - %(message)s')\n",
    "fh.setFormatter(formatter)\n",
    "ch.setFormatter(formatter)\n",
    "# add the handlers to the logger\n",
    "logger.addHandler(fh)\n",
    "logger.addHandler(ch)"
   ]
  },
  {
   "cell_type": "code",
   "execution_count": 22,
   "metadata": {
    "collapsed": true
   },
   "outputs": [],
   "source": [
    "parser = argparse.ArgumentParser('CaseStudy1Part1')\n",
    "parser.add_argument('-c','--cik', help='The CIK of the company for which the filling is to be downloaded.', type=str, default = '0000051143', nargs = '?')\n",
    "parser.add_argument('-a','--accno', help='The accession number of the company for which the filling is to be downloaded.', type=str, default = '0000051143-13-000007', nargs = '?')\n",
    "parser.add_argument('-f','--ftf', help='The type of the file to be downloaded.', type=str, default = '10-Q', nargs = '?')\n",
    "parser.add_argument('-k','--awskey', help='The key to the aws account where the files is to be uploaded.', type=str)\n",
    "parser.add_argument('-s','--awssecretkey', help='The secret key to the aws account where the files is to be uploaded', type=str)\n",
    "parser.add_argument('-b','--awsbucket', help='The bucket where the files is to be uploaded', type=str)\n",
    "args = parser.parse_args()"
   ]
  },
  {
   "cell_type": "code",
   "execution_count": 23,
   "metadata": {
    "collapsed": true
   },
   "outputs": [],
   "source": [
    "cik = args.cik\n",
    "accno = args.accno\n",
    "file_tf = args.ftf\n",
    "awskey = args.awskey\n",
    "awssecretkey = args.awssecretkey\n",
    "awsbucket = args.awsbucket"
   ]
  },
  {
   "cell_type": "code",
   "execution_count": 24,
   "metadata": {
    "collapsed": true
   },
   "outputs": [],
   "source": [
    "cik_nz = cik.lstrip('0')\n",
    "accno_nh = accno.replace('-','')"
   ]
  },
  {
   "cell_type": "code",
   "execution_count": 25,
   "metadata": {
    "collapsed": true,
    "scrolled": true
   },
   "outputs": [],
   "source": [
    "url = 'http://www.sec.gov/Archives/edgar/data/' + cik_nz + '/' + accno_nh + '/' + accno+'-index.html'"
   ]
  },
  {
   "cell_type": "code",
   "execution_count": 26,
   "metadata": {
    "collapsed": true
   },
   "outputs": [],
   "source": [
    "http = urllib3.PoolManager()\n",
    "response = http.request('GET',url)"
   ]
  },
  {
   "cell_type": "code",
   "execution_count": 27,
   "metadata": {
    "collapsed": true
   },
   "outputs": [],
   "source": [
    "soup = BeautifulSoup(response.data,'lxml')\n",
    "table = soup.find('table',{'summary':'Document Format Files'})\n",
    "rows = table.findAll('tr')\n",
    "for row in rows:\n",
    "    cols = row.findAll('td')\n",
    "    for col in cols:\n",
    "        if col.contents[0] == file_tf:\n",
    "            extension = row.find('a',href = True).contents\n",
    "            break               "
   ]
  },
  {
   "cell_type": "code",
   "execution_count": 28,
   "metadata": {},
   "outputs": [
    {
     "ename": "NameError",
     "evalue": "name 'extension' is not defined",
     "output_type": "error",
     "traceback": [
      "\u001b[1;31m---------------------------------------------------------------------------\u001b[0m",
      "\u001b[1;31mNameError\u001b[0m                                 Traceback (most recent call last)",
      "\u001b[1;32m<ipython-input-28-2d8796f03647>\u001b[0m in \u001b[0;36m<module>\u001b[1;34m()\u001b[0m\n\u001b[1;32m----> 1\u001b[1;33m \u001b[0murl10Q\u001b[0m \u001b[1;33m=\u001b[0m \u001b[1;34m'http://www.sec.gov/Archives/edgar/data/'\u001b[0m \u001b[1;33m+\u001b[0m \u001b[0mcik_nz\u001b[0m \u001b[1;33m+\u001b[0m \u001b[1;34m'/'\u001b[0m \u001b[1;33m+\u001b[0m \u001b[0maccno_nh\u001b[0m \u001b[1;33m+\u001b[0m \u001b[1;34m'/'\u001b[0m \u001b[1;33m+\u001b[0m \u001b[0mextension\u001b[0m\u001b[1;33m[\u001b[0m\u001b[1;36m0\u001b[0m\u001b[1;33m]\u001b[0m\u001b[1;33m\u001b[0m\u001b[0m\n\u001b[0m",
      "\u001b[1;31mNameError\u001b[0m: name 'extension' is not defined"
     ]
    }
   ],
   "source": [
    "url10Q = 'http://www.sec.gov/Archives/edgar/data/' + cik_nz + '/' + accno_nh + '/' + extension[0]"
   ]
  },
  {
   "cell_type": "code",
   "execution_count": null,
   "metadata": {
    "collapsed": true,
    "scrolled": true
   },
   "outputs": [],
   "source": [
    "response10Q = http.request('GET',url10Q)\n",
    "df_list = pd.read_html(response10Q.data)\n",
    "path = '.\\\\Part1CSV\\\\'\n",
    "os.makedirs(os.path.join(path), exist_ok=True)\n",
    "i = 0\n",
    "for df in df_list:\n",
    "    i += 1 \n",
    "    df.to_csv(os.path.join(path,str(i) + '.csv'))"
   ]
  },
  {
   "cell_type": "code",
   "execution_count": null,
   "metadata": {
    "collapsed": true
   },
   "outputs": [],
   "source": [
    "shutil.make_archive('Part1CSV', 'zip', path)\n",
    "shutil.rmtree(os.path.join('.\\\\Part1CSV')) "
   ]
  },
  {
   "cell_type": "code",
   "execution_count": null,
   "metadata": {
    "collapsed": true
   },
   "outputs": [],
   "source": [
    "file = 'Part1CSV.zip'\n",
    "data = open(file, 'rb')\n",
    "# S3 Connect\n",
    "s3 = boto3.resource(\n",
    "    's3',\n",
    "    aws_access_key_id=awskey,\n",
    "    aws_secret_access_key=awssecretkey,\n",
    "    config=Config(signature_version='s3v4')\n",
    ")\n",
    "# File Upload\n",
    "s3.Bucket(awsbucket).put_object(Key=file, Body=data, ACL='public-read-write')\n",
    "data.close()\n",
    "os.remove(os.path.join('.\\\\',file))\n",
    "print (\"Done\")"
   ]
  }
 ],
 "metadata": {
  "kernelspec": {
   "display_name": "Python 3",
   "language": "python",
   "name": "python3"
  },
  "language_info": {
   "codemirror_mode": {
    "name": "ipython",
    "version": 3
   },
   "file_extension": ".py",
   "mimetype": "text/x-python",
   "name": "python",
   "nbconvert_exporter": "python",
   "pygments_lexer": "ipython3",
   "version": "3.6.1"
  }
 },
 "nbformat": 4,
 "nbformat_minor": 2
}
