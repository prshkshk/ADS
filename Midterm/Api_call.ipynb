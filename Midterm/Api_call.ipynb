{
 "cells": [
  {
   "cell_type": "code",
   "execution_count": 23,
   "metadata": {},
   "outputs": [
    {
     "name": "stdout",
     "output_type": "stream",
     "text": [
      "0.007998549936011332\n"
     ]
    }
   ],
   "source": [
    "import requests\n",
    " \n",
    "response = requests.post(\"https://app.dominodatalab.com/v1/pranay245/NortheasternCoursework/endpoint\",\n",
    "    headers = {\n",
    "        \"X-Domino-Api-Key\": \"6alYlySiGjASGribugmPBkk7axzFxuR5tkaGq8fLBHsKKHjRPCm61WtkwU58kYWg\",\n",
    "        \"Content-Type\": \"application/json\"\n",
    "    },\n",
    "    json = {\n",
    "        \"parameters\": [11472621.0,1.0,1.0,2.0,4.0,1.0,1177.0,121177.0,6037.0,1.0,4.0,919.6,7.0,37106.0,266.0,60376201.0130089968,55753.0,3101.0,276514.0,96103.0,0.0,1.0,1978.0,235411.0,463070.0,2015.0,227659.0,5287.69,60376201013009.0]\n",
    "    }\n",
    ")\n",
    " \n",
    "#print(response.status_code)\n",
    "#print(response.headers)\n",
    "err = response.json()\n",
    "print(err['result'])"
   ]
  }
 ],
 "metadata": {
  "kernelspec": {
   "display_name": "Python 3",
   "language": "python",
   "name": "python3"
  },
  "language_info": {
   "codemirror_mode": {
    "name": "ipython",
    "version": 3
   },
   "file_extension": ".py",
   "mimetype": "text/x-python",
   "name": "python",
   "nbconvert_exporter": "python",
   "pygments_lexer": "ipython3",
   "version": "3.6.1"
  }
 },
 "nbformat": 4,
 "nbformat_minor": 2
}
