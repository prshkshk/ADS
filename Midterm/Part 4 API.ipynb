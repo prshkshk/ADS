{
 "cells": [
  {
   "cell_type": "code",
   "execution_count": 1,
   "metadata": {},
   "outputs": [
    {
     "name": "stdout",
     "output_type": "stream",
     "text": [
      "200\n",
      "{'Server': 'nginx', 'Date': 'Sun, 05 Nov 2017 03:43:44 GMT', 'Content-Type': 'application/json; charset=UTF-8', 'Transfer-Encoding': 'chunked', 'Connection': 'keep-alive', 'Domino-Serialization-Time': '0', 'Domino-User-Code-Time': '18364', 'Domino-Deserialization-Time': '0', 'Access-Control-Allow-Origin': '*'}\n",
      "{'result': '[{\"Latitude\": \"33.989359\", \"Longitude\": \"-118.394633\", \"Distance\": \"0.0571702207681\", \"PlaceID\": \"10843547\"}, {\"Latitude\": \"33.990672\", \"Longitude\": \"-118.395016\", \"Distance\": \"0.115954328712\", \"PlaceID\": \"11529570\"}, {\"Latitude\": \"33.991537\", \"Longitude\": \"-118.393598\", \"Distance\": \"0.121151179036\", \"PlaceID\": \"11517270\"}, {\"Latitude\": \"33.991674\", \"Longitude\": \"-118.393603\", \"Distance\": \"0.127282566985\", \"PlaceID\": \"11517271\"}, {\"Latitude\": \"33.990176\", \"Longitude\": \"-118.395491\", \"Distance\": \"0.155588212005\", \"PlaceID\": \"11529548\"}, {\"Latitude\": \"33.992388\", \"Longitude\": \"-118.39363\", \"Distance\": \"0.160731772518\", \"PlaceID\": \"11517282\"}, {\"Latitude\": \"33.990944\", \"Longitude\": \"-118.392827\", \"Distance\": \"0.162444759174\", \"PlaceID\": \"11517357\"}, {\"Latitude\": \"33.990944\", \"Longitude\": \"-118.392826\", \"Distance\": \"0.162543438541\", \"PlaceID\": \"11517356\"}, {\"Latitude\": \"33.991714\", \"Longitude\": \"-118.393077\", \"Distance\": \"0.163957089943\", \"PlaceID\": \"11517174\"}, {\"Latitude\": \"33.99091\", \"Longitude\": \"-118.392796\", \"Distance\": \"0.164707866046\", \"PlaceID\": \"11517452\"}]', 'release': {'version': 13, 'commitId': '5fb8e1fe557845becd34497e1b920624f30f2577', 'file': 'part4.py', 'function': 'index'}, 'warnings': ['elapsedTimeInMs is deprecated. Please use the values under timing instead.', 'status is deprecated. Please use HTTP status codes to determine the status of a request.'], 'status': 'Succeeded', 'elapsedTimeInMs': 0, 'requestId': '5LVYZGYUWU621MHW'}\n"
     ]
    }
   ],
   "source": [
    "import requests\n",
    " \n",
    "response = requests.post(\"https://app.dominodatalab.com/v1/pranay245/NortheasternCoursework/endpoint\",\n",
    "    headers = {\n",
    "        \"X-Domino-Api-Key\": \"6alYlySiGjASGribugmPBkk7axzFxuR5tkaGq8fLBHsKKHjRPCm61WtkwU58kYWg\",\n",
    "        \"Content-Type\": \"application/json\"\n",
    "    },\n",
    "    json = {\n",
    "        \"parameters\": [33.98953, -118.394125]\n",
    "    }\n",
    ")\n",
    " \n",
    "print(response.status_code)\n",
    "print(response.headers)\n",
    "print(response.json())"
   ]
  },
  {
   "cell_type": "code",
   "execution_count": 14,
   "metadata": {},
   "outputs": [
    {
     "name": "stdout",
     "output_type": "stream",
     "text": [
      "[{\"Latitude\": \"33.989359\", \"Longitude\": \"-118.394633\", \"Distance\": \"0.0571702207681\", \"PlaceID\": \"10843547\"}, {\"Latitude\": \"33.990672\", \"Longitude\": \"-118.395016\", \"Distance\": \"0.115954328712\", \"PlaceID\": \"11529570\"}, {\"Latitude\": \"33.991537\", \"Longitude\": \"-118.393598\", \"Distance\": \"0.121151179036\", \"PlaceID\": \"11517270\"}, {\"Latitude\": \"33.991674\", \"Longitude\": \"-118.393603\", \"Distance\": \"0.127282566985\", \"PlaceID\": \"11517271\"}, {\"Latitude\": \"33.990176\", \"Longitude\": \"-118.395491\", \"Distance\": \"0.155588212005\", \"PlaceID\": \"11529548\"}, {\"Latitude\": \"33.992388\", \"Longitude\": \"-118.39363\", \"Distance\": \"0.160731772518\", \"PlaceID\": \"11517282\"}, {\"Latitude\": \"33.990944\", \"Longitude\": \"-118.392827\", \"Distance\": \"0.162444759174\", \"PlaceID\": \"11517357\"}, {\"Latitude\": \"33.990944\", \"Longitude\": \"-118.392826\", \"Distance\": \"0.162543438541\", \"PlaceID\": \"11517356\"}, {\"Latitude\": \"33.991714\", \"Longitude\": \"-118.393077\", \"Distance\": \"0.163957089943\", \"PlaceID\": \"11517174\"}, {\"Latitude\": \"33.99091\", \"Longitude\": \"-118.392796\", \"Distance\": \"0.164707866046\", \"PlaceID\": \"11517452\"}]\n"
     ]
    }
   ],
   "source": [
    "import json\n",
    "\n",
    "data = json.loads(response.content)  \n",
    "dic = data['result']\n",
    "print(dic)"
   ]
  },
  {
   "cell_type": "code",
   "execution_count": 13,
   "metadata": {},
   "outputs": [
    {
     "data": {
      "text/html": [
       "<table border=\"1\"><tr><th>Latitude</th><th>Longitude</th><th>Distance</th><th>PlaceID</th></tr><tr><td>33.989359</td><td>-118.394633</td><td>0.0571702207681</td><td>10843547</td></tr><tr><td>33.990672</td><td>-118.395016</td><td>0.115954328712</td><td>11529570</td></tr><tr><td>33.991537</td><td>-118.393598</td><td>0.121151179036</td><td>11517270</td></tr><tr><td>33.991674</td><td>-118.393603</td><td>0.127282566985</td><td>11517271</td></tr><tr><td>33.990176</td><td>-118.395491</td><td>0.155588212005</td><td>11529548</td></tr><tr><td>33.992388</td><td>-118.39363</td><td>0.160731772518</td><td>11517282</td></tr><tr><td>33.990944</td><td>-118.392827</td><td>0.162444759174</td><td>11517357</td></tr><tr><td>33.990944</td><td>-118.392826</td><td>0.162543438541</td><td>11517356</td></tr><tr><td>33.991714</td><td>-118.393077</td><td>0.163957089943</td><td>11517174</td></tr><tr><td>33.99091</td><td>-118.392796</td><td>0.164707866046</td><td>11517452</td></tr></table>"
      ],
      "text/plain": [
       "<IPython.core.display.HTML object>"
      ]
     },
     "metadata": {},
     "output_type": "display_data"
    }
   ],
   "source": [
    "from json2html import *\n",
    "import folium\n",
    "from IPython.display import display,clear_output\n",
    "from IPython.display import HTML, display\n",
    "\n",
    "display(HTML(json2html.convert(json = dic)))"
   ]
  },
  {
   "cell_type": "code",
   "execution_count": 16,
   "metadata": {},
   "outputs": [],
   "source": [
    "jObj = json.loads(dic)"
   ]
  },
  {
   "cell_type": "code",
   "execution_count": null,
   "metadata": {},
   "outputs": [],
   "source": [
    "import pandas as pd\n",
    "import numpy as np\n",
    "\n",
    "dataf = pd.DataFrame(np.array(jObj).reshape(10,4), columns = list(\"abcd\"))\n",
    "dataf = dataf.rename(columns={'a': 'Latitude', 'b': 'Longitude', 'c': 'Distance', 'd': 'PlaceID'})\n",
    "\n",
    "locations = dataf[['Latitude', 'Longitude']]\n",
    "locationlist = locations.values.astype(float).tolist()\n",
    "\n",
    "mapthem=folium.Map(location=[lati,longi],zoom_start=16)\n",
    "for point in range(0, len(locationlist)):\n",
    "    folium.Marker(locationlist[point]).add_to(mapthem)\n",
    "    folium.Marker(location=[lati,longi],icon=folium.Icon(color='red',icon='info-sign'), popup='Target').add_to(mapthem)\n",
    "mapthem.save('mapping.html')\n",
    "    \n",
    "display(HTML('<iframe src=mapping.html width=700 height=350></iframe>'))"
   ]
  },
  {
   "cell_type": "code",
   "execution_count": null,
   "metadata": {
    "collapsed": true
   },
   "outputs": [],
   "source": []
  }
 ],
 "metadata": {
  "kernelspec": {
   "display_name": "Python 3",
   "language": "python",
   "name": "python3"
  },
  "language_info": {
   "codemirror_mode": {
    "name": "ipython",
    "version": 3
   },
   "file_extension": ".py",
   "mimetype": "text/x-python",
   "name": "python",
   "nbconvert_exporter": "python",
   "pygments_lexer": "ipython3",
   "version": "3.6.2"
  }
 },
 "nbformat": 4,
 "nbformat_minor": 2
}
